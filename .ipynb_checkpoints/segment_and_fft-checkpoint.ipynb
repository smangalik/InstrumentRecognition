{
 "cells": [
  {
   "cell_type": "code",
   "execution_count": 14,
   "metadata": {},
   "outputs": [
    {
     "name": "stdout",
     "output_type": "stream",
     "text": [
      "snare_drum\n",
      "snare_drum added\n",
      "cello\n",
      "cello added\n",
      "banjo\n",
      "banjo added\n",
      "violin\n",
      "violin added\n",
      "french_horn\n",
      "french_horn added\n",
      ".DS_Store\n",
      ".DS_Store added\n",
      "trombone\n",
      "trombone added\n",
      "oboe\n",
      "oboe added\n",
      "bass_clarinet\n",
      "bass_clarinet added\n",
      "trumpet\n",
      "trumpet added\n",
      "guitar\n",
      "guitar added\n",
      "triangle\n",
      "triangle added\n",
      "bass_drum\n",
      "bass_drum added\n",
      "saxophone\n",
      "saxophone added\n",
      "tambourine\n",
      "tambourine added\n",
      "tuba\n",
      "tuba added\n",
      "cowbell\n",
      "cowbell added\n",
      "viola\n",
      "viola added\n",
      "flute\n",
      "flute added\n",
      "clash_cymbals\n",
      "clash_cymbals added\n",
      "double_bass\n",
      "double_bass added\n"
     ]
    },
    {
     "ename": "ValueError",
     "evalue": "operands could not be broadcast together with shapes (331632,) (82320,) ",
     "output_type": "error",
     "traceback": [
      "\u001b[0;31m---------------------------------------------------------------------------\u001b[0m",
      "\u001b[0;31mValueError\u001b[0m                                Traceback (most recent call last)",
      "\u001b[0;32m<ipython-input-14-b19a13de991b>\u001b[0m in \u001b[0;36m<module>\u001b[0;34m()\u001b[0m\n\u001b[1;32m     39\u001b[0m \u001b[0;34m\u001b[0m\u001b[0m\n\u001b[1;32m     40\u001b[0m \u001b[0;31m#find mean volume of sound samples\u001b[0m\u001b[0;34m\u001b[0m\u001b[0;34m\u001b[0m\u001b[0m\n\u001b[0;32m---> 41\u001b[0;31m \u001b[0mmean_volume\u001b[0m \u001b[0;34m=\u001b[0m \u001b[0mnp\u001b[0m\u001b[0;34m.\u001b[0m\u001b[0mmean\u001b[0m\u001b[0;34m(\u001b[0m\u001b[0;34m[\u001b[0m\u001b[0mnp\u001b[0m\u001b[0;34m.\u001b[0m\u001b[0mmax\u001b[0m\u001b[0;34m(\u001b[0m\u001b[0mi\u001b[0m\u001b[0;34m.\u001b[0m\u001b[0mdata\u001b[0m\u001b[0;34m)\u001b[0m \u001b[0;32mfor\u001b[0m \u001b[0mi\u001b[0m \u001b[0;32min\u001b[0m \u001b[0minstruments\u001b[0m\u001b[0;34m]\u001b[0m\u001b[0;34m)\u001b[0m\u001b[0;34m\u001b[0m\u001b[0m\n\u001b[0m\u001b[1;32m     42\u001b[0m \u001b[0;34m\u001b[0m\u001b[0m\n\u001b[1;32m     43\u001b[0m \u001b[0;31m#scale the volume for all the audio samples\u001b[0m\u001b[0;34m\u001b[0m\u001b[0;34m\u001b[0m\u001b[0m\n",
      "\u001b[0;32m<ipython-input-14-b19a13de991b>\u001b[0m in \u001b[0;36m<listcomp>\u001b[0;34m(.0)\u001b[0m\n\u001b[1;32m     39\u001b[0m \u001b[0;34m\u001b[0m\u001b[0m\n\u001b[1;32m     40\u001b[0m \u001b[0;31m#find mean volume of sound samples\u001b[0m\u001b[0;34m\u001b[0m\u001b[0;34m\u001b[0m\u001b[0m\n\u001b[0;32m---> 41\u001b[0;31m \u001b[0mmean_volume\u001b[0m \u001b[0;34m=\u001b[0m \u001b[0mnp\u001b[0m\u001b[0;34m.\u001b[0m\u001b[0mmean\u001b[0m\u001b[0;34m(\u001b[0m\u001b[0;34m[\u001b[0m\u001b[0mnp\u001b[0m\u001b[0;34m.\u001b[0m\u001b[0mmax\u001b[0m\u001b[0;34m(\u001b[0m\u001b[0mi\u001b[0m\u001b[0;34m.\u001b[0m\u001b[0mdata\u001b[0m\u001b[0;34m)\u001b[0m \u001b[0;32mfor\u001b[0m \u001b[0mi\u001b[0m \u001b[0;32min\u001b[0m \u001b[0minstruments\u001b[0m\u001b[0;34m]\u001b[0m\u001b[0;34m)\u001b[0m\u001b[0;34m\u001b[0m\u001b[0m\n\u001b[0m\u001b[1;32m     42\u001b[0m \u001b[0;34m\u001b[0m\u001b[0m\n\u001b[1;32m     43\u001b[0m \u001b[0;31m#scale the volume for all the audio samples\u001b[0m\u001b[0;34m\u001b[0m\u001b[0;34m\u001b[0m\u001b[0m\n",
      "\u001b[0;32m~/anaconda3/lib/python3.6/site-packages/numpy/core/fromnumeric.py\u001b[0m in \u001b[0;36mamax\u001b[0;34m(a, axis, out, keepdims)\u001b[0m\n\u001b[1;32m   2270\u001b[0m \u001b[0;34m\u001b[0m\u001b[0m\n\u001b[1;32m   2271\u001b[0m     return _methods._amax(a, axis=axis,\n\u001b[0;32m-> 2272\u001b[0;31m                           out=out, **kwargs)\n\u001b[0m\u001b[1;32m   2273\u001b[0m \u001b[0;34m\u001b[0m\u001b[0m\n\u001b[1;32m   2274\u001b[0m \u001b[0;34m\u001b[0m\u001b[0m\n",
      "\u001b[0;32m~/anaconda3/lib/python3.6/site-packages/numpy/core/_methods.py\u001b[0m in \u001b[0;36m_amax\u001b[0;34m(a, axis, out, keepdims)\u001b[0m\n\u001b[1;32m     24\u001b[0m \u001b[0;31m# small reductions\u001b[0m\u001b[0;34m\u001b[0m\u001b[0;34m\u001b[0m\u001b[0m\n\u001b[1;32m     25\u001b[0m \u001b[0;32mdef\u001b[0m \u001b[0m_amax\u001b[0m\u001b[0;34m(\u001b[0m\u001b[0ma\u001b[0m\u001b[0;34m,\u001b[0m \u001b[0maxis\u001b[0m\u001b[0;34m=\u001b[0m\u001b[0;32mNone\u001b[0m\u001b[0;34m,\u001b[0m \u001b[0mout\u001b[0m\u001b[0;34m=\u001b[0m\u001b[0;32mNone\u001b[0m\u001b[0;34m,\u001b[0m \u001b[0mkeepdims\u001b[0m\u001b[0;34m=\u001b[0m\u001b[0;32mFalse\u001b[0m\u001b[0;34m)\u001b[0m\u001b[0;34m:\u001b[0m\u001b[0;34m\u001b[0m\u001b[0m\n\u001b[0;32m---> 26\u001b[0;31m     \u001b[0;32mreturn\u001b[0m \u001b[0mumr_maximum\u001b[0m\u001b[0;34m(\u001b[0m\u001b[0ma\u001b[0m\u001b[0;34m,\u001b[0m \u001b[0maxis\u001b[0m\u001b[0;34m,\u001b[0m \u001b[0;32mNone\u001b[0m\u001b[0;34m,\u001b[0m \u001b[0mout\u001b[0m\u001b[0;34m,\u001b[0m \u001b[0mkeepdims\u001b[0m\u001b[0;34m)\u001b[0m\u001b[0;34m\u001b[0m\u001b[0m\n\u001b[0m\u001b[1;32m     27\u001b[0m \u001b[0;34m\u001b[0m\u001b[0m\n\u001b[1;32m     28\u001b[0m \u001b[0;32mdef\u001b[0m \u001b[0m_amin\u001b[0m\u001b[0;34m(\u001b[0m\u001b[0ma\u001b[0m\u001b[0;34m,\u001b[0m \u001b[0maxis\u001b[0m\u001b[0;34m=\u001b[0m\u001b[0;32mNone\u001b[0m\u001b[0;34m,\u001b[0m \u001b[0mout\u001b[0m\u001b[0;34m=\u001b[0m\u001b[0;32mNone\u001b[0m\u001b[0;34m,\u001b[0m \u001b[0mkeepdims\u001b[0m\u001b[0;34m=\u001b[0m\u001b[0;32mFalse\u001b[0m\u001b[0;34m)\u001b[0m\u001b[0;34m:\u001b[0m\u001b[0;34m\u001b[0m\u001b[0m\n",
      "\u001b[0;31mValueError\u001b[0m: operands could not be broadcast together with shapes (331632,) (82320,) "
     ]
    }
   ],
   "source": [
    "#Sound Samples\n",
    "#http://www.philharmonia.co.uk/explore/sound_samples/bass_clarinet?p=2\n",
    "\n",
    "import numpy as np\n",
    "from scipy import signal\n",
    "import scipy.io.wavfile as sp\n",
    "import os\n",
    "\n",
    "#class that represents an instrument playing a specific note and its segments\n",
    "class Instrument:\n",
    "    def __init__(self, name, data, rate, segments):\n",
    "        self.name = name             # instrument name\n",
    "        self.data = data             # raw waves for the audio\n",
    "        self.rate = rate             # sampling rate for the audio\n",
    "        self.segments = segments     # segmented waves after fourier transform\n",
    "        \n",
    "#dictionary of the instruments\n",
    "instruments = []\n",
    "        \n",
    "#iterate through all instrument folders in wav_data\n",
    "directory = \"data/wav_data/\"\n",
    "for folder in os.listdir(directory):\n",
    "    if \".\" not in folder:\n",
    "        #create an instrument object with the appropriate name per folder\n",
    "        new_instrument = Instrument(folder, [], [], [])\n",
    "        #iterate through all .wav files in folders\n",
    "        for file_path in os.listdir(directory + folder):\n",
    "            if file_path.endswith(\".wav\"):\n",
    "                #rate = frames per second, data = the frames\n",
    "                rate, data = sp.read(directory + folder + \"/\" + file_path)\n",
    "                #append the data and rate for the sample\n",
    "                new_instrument.data.append(data)\n",
    "                new_instrument.rate.append(rate)\n",
    "        #add instrument to instruments list\n",
    "        instruments.append(new_instrument)   \n",
    "        #print that new instrument was added\n",
    "        print(new_instrument.name, 'added')\n",
    "    \n",
    "#find mean volume of sound samples\n",
    "mean_volume = np.mean([np.max(i.data) for i in instruments])       \n",
    "\n",
    "#scale the volume for all the audio samples\n",
    "def scale_volume(data, pos_mean = mean_volume, neg_mean = mean_volume * -1):\n",
    "    result = []\n",
    "    scale = max(-1 * min(data), max(data))\n",
    "    for d in data:\n",
    "        d = d * mean_volume/scale\n",
    "        result.append(d)\n",
    "    return result\n",
    "\n",
    "#scale the data and perform stft\n",
    "for instrument in instruments:\n",
    "    #rescale data\n",
    "    instrument.data = scale_volume(instrument.data)\n",
    "    \n",
    "    #get the data and rate\n",
    "    data = instrument.data\n",
    "    rate = instrument.rate\n",
    "    \n",
    "    #duration = number of frames / frames per second\n",
    "    duration = len(data) / rate\n",
    "\n",
    "    #overlap = frames per 10ms\n",
    "    overlap = rate/1000*10\n",
    "    overlap = int(overlap)\n",
    "\n",
    "    #window_size = frames per 25ms\n",
    "    window_size = rate/1000*25\n",
    "    window_size = int(window_size)\n",
    "\n",
    "    #extract frame segments with overlaps\n",
    "    f, t, Zxx = signal.stft(data, window = 'hann', nperseg = window_size, noverlap = overlap)\n",
    "    \n",
    "    #log of the absolute values of each segment\n",
    "    Zxx = abs(Zxx)\n",
    "    Zxx = [[np.log10(d) if d != 0 else 0 for d in segment] for segment in Zxx]\n",
    "    \n",
    "    #add the stft result to the instrument\n",
    "    instrument.segments = Zxx"
   ]
  },
  {
   "cell_type": "code",
   "execution_count": 2,
   "metadata": {},
   "outputs": [
    {
     "ename": "IndexError",
     "evalue": "list index out of range",
     "output_type": "error",
     "traceback": [
      "\u001b[0;31m---------------------------------------------------------------------------\u001b[0m",
      "\u001b[0;31mIndexError\u001b[0m                                Traceback (most recent call last)",
      "\u001b[0;32m<ipython-input-2-eaaaf46d4f67>\u001b[0m in \u001b[0;36m<module>\u001b[0;34m()\u001b[0m\n\u001b[1;32m      1\u001b[0m \u001b[0;32mimport\u001b[0m \u001b[0mmatplotlib\u001b[0m\u001b[0;34m.\u001b[0m\u001b[0mpyplot\u001b[0m \u001b[0;32mas\u001b[0m \u001b[0mplt\u001b[0m\u001b[0;34m\u001b[0m\u001b[0m\n\u001b[1;32m      2\u001b[0m \u001b[0;34m\u001b[0m\u001b[0m\n\u001b[0;32m----> 3\u001b[0;31m \u001b[0minstrument\u001b[0m \u001b[0;34m=\u001b[0m \u001b[0minstruments\u001b[0m\u001b[0;34m[\u001b[0m\u001b[0;36m0\u001b[0m\u001b[0;34m]\u001b[0m\u001b[0;34m\u001b[0m\u001b[0m\n\u001b[0m\u001b[1;32m      4\u001b[0m \u001b[0;34m\u001b[0m\u001b[0m\n\u001b[1;32m      5\u001b[0m \u001b[0mplt\u001b[0m\u001b[0;34m.\u001b[0m\u001b[0mplot\u001b[0m\u001b[0;34m(\u001b[0m\u001b[0minstrument\u001b[0m\u001b[0;34m.\u001b[0m\u001b[0mdata\u001b[0m\u001b[0;34m,\u001b[0m \u001b[0mlabel\u001b[0m\u001b[0;34m=\u001b[0m\u001b[0minstrument\u001b[0m\u001b[0;34m.\u001b[0m\u001b[0mname\u001b[0m\u001b[0;34m)\u001b[0m\u001b[0;34m\u001b[0m\u001b[0m\n",
      "\u001b[0;31mIndexError\u001b[0m: list index out of range"
     ]
    }
   ],
   "source": [
    "import matplotlib.pyplot as plt\n",
    "\n",
    "instrument = instruments[0]\n",
    "\n",
    "plt.plot(instrument.data, label=instrument.name)\n",
    "plt.legend()\n",
    "plt.show()"
   ]
  },
  {
   "cell_type": "code",
   "execution_count": null,
   "metadata": {
    "collapsed": true
   },
   "outputs": [],
   "source": [
    "# when seeing new test data, we sample it at the same rate and then average its scores on all k-means regressions\n",
    "\n",
    "# https://docs.scipy.org/doc/scipy/reference/generated/scipy.signal.stft.html\n",
    "    \n",
    "# https://kevinsprojects.wordpress.com/2014/12/13/short-time-fourier-transform-using-python-and-numpy/"
   ]
  },
  {
   "cell_type": "code",
   "execution_count": 82,
   "metadata": {},
   "outputs": [
    {
     "data": {
      "text/plain": [
       "array([[ 1.,  2.],\n",
       "       [ 4.,  2.]])"
      ]
     },
     "execution_count": 82,
     "metadata": {},
     "output_type": "execute_result"
    }
   ],
   "source": [
    "from sklearn.cluster import KMeans\n",
    "\n",
    "# Data\n",
    "X = np.array([[1, 2], [1, 4], [1, 0],\n",
    "              [4, 2], [4, 4], [4, 0]])\n",
    "\n",
    "# Clustering\n",
    "kmeans = KMeans(n_clusters=2, random_state=0).fit(X)\n",
    "# kmeans.labels_ = [0, 0, 0, 1, 1, 1]\n",
    "\n",
    "# Predict labels\n",
    "kmeans.predict([[0, 0], [4, 4]]) # [0, 1]\n",
    "\n",
    "# Return Centers\n",
    "kmeans.cluster_centers_"
   ]
  },
  {
   "cell_type": "code",
   "execution_count": 81,
   "metadata": {
    "collapsed": true
   },
   "outputs": [],
   "source": [
    "from sklearn.cluster import KMeans\n",
    "\n",
    "kmeans = KMeans(n_clusters = 221, random_state = 0).fit(instruments[0].segments)"
   ]
  }
 ],
 "metadata": {
  "kernelspec": {
   "display_name": "Python 3",
   "language": "python",
   "name": "python3"
  },
  "language_info": {
   "codemirror_mode": {
    "name": "ipython",
    "version": 3
   },
   "file_extension": ".py",
   "mimetype": "text/x-python",
   "name": "python",
   "nbconvert_exporter": "python",
   "pygments_lexer": "ipython3",
   "version": "3.6.3"
  }
 },
 "nbformat": 4,
 "nbformat_minor": 2
}

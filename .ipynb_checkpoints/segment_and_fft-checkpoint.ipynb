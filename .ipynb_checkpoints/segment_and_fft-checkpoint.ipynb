{
 "cells": [
  {
   "cell_type": "code",
   "execution_count": null,
   "metadata": {
    "scrolled": false
   },
   "outputs": [],
   "source": [
    "#Sound Samples\n",
    "#http://www.philharmonia.co.uk/explore/sound_samples/bass_clarinet?p=2\n",
    "\n",
    "import numpy as np\n",
    "from scipy import signal\n",
    "import scipy.io.wavfile as sp\n",
    "import os\n",
    "\n",
    "#class that represents an instrument playing a specific note and its segments\n",
    "class Instrument:\n",
    "    def __init__(self, name, data, rate, segments):\n",
    "        self.name = name             # instrument name\n",
    "        self.data = data             # raw waves for the audio\n",
    "        self.rate = rate             # sampling rate for the audio\n",
    "        self.segments = segments     # segmented waves after fourier transform\n",
    "        \n",
    "#dictionary of the instruments\n",
    "instruments = []\n",
    "        \n",
    "#iterate through all instrument folders in wav_data\n",
    "directory = \"data/wav_data/\"\n",
    "for folder in os.listdir(directory):\n",
    "    if \".\" not in folder:\n",
    "        #create an instrument object with the appropriate name per folder\n",
    "        new_instrument = Instrument(folder, [], [], [])\n",
    "        #iterate through all .wav files in folders\n",
    "        for file_path in os.listdir(directory + folder):\n",
    "            if file_path.endswith(\".wav\"):\n",
    "                #rate = frames per second, data = the frames\n",
    "                rate, data = sp.read(directory + folder + \"/\" + file_path)\n",
    "                #append the data and rate for the sample\n",
    "                new_instrument.data.append(data)\n",
    "                new_instrument.rate.append(rate)\n",
    "        #add instrument to instruments list\n",
    "        instruments.append(new_instrument)   \n",
    "        #print that new instrument was added\n",
    "        print(new_instrument.name, 'added')\n",
    "\n",
    "#find mean volume of sound samples \n",
    "lists_of_tops = [[np.max(sample) for sample in instrument.data] for instrument in instruments]\n",
    "list_of_tops = [top for list_of_tops in lists_of_tops for top in list_of_tops]\n",
    "mean_volume = np.mean(list_of_tops)  \n",
    "\n",
    "#scale the volume for all the audio samples\n",
    "def scale_volume(data, avg_volume = mean_volume):\n",
    "    final_scale = avg_volume / (max(-1 * min(data), max(data)))\n",
    "    return data * final_scale\n",
    "\n",
    "#scale the data and perform stft\n",
    "for instrument in instruments:\n",
    "    for i in range(0, len(instrument.data)):\n",
    "        \n",
    "        #rescale data\n",
    "        instrument.data[i] = scale_volume(instrument.data[i])\n",
    "\n",
    "        #get the data and rate\n",
    "        data = instrument.data[i]\n",
    "        rate = instrument.rate[i]\n",
    "\n",
    "        #duration = number of frames / frames per second\n",
    "        duration = len(data) / rate\n",
    "\n",
    "        #overlap = frames per 10ms\n",
    "        overlap = rate/1000*10\n",
    "        overlap = int(overlap)\n",
    "\n",
    "        #window_size = frames per 25ms\n",
    "        window_size = rate/1000*25\n",
    "        window_size = int(window_size)\n",
    "\n",
    "        #extract frame segments with overlaps\n",
    "        f, t, Zxx = signal.stft(data, window = 'hann', nperseg = window_size, noverlap = overlap)\n",
    "\n",
    "        #log of the absolute values of each segment\n",
    "        Zxx = abs(Zxx)\n",
    "        Zxx = [[np.log10(d) if d != 0 else 0 for d in segment] for segment in Zxx]\n",
    "        \n",
    "        #add the stft result to the instrument\n",
    "        instrument.segments.append(Zxx)\n",
    "        \n",
    "    print(\"FINISHED \" + instrument.name)"
   ]
  },
  {
   "cell_type": "code",
   "execution_count": null,
   "metadata": {},
   "outputs": [],
   "source": [
    "# Plot out an audio sample\n",
    "\n",
    "import matplotlib.pyplot as plt\n",
    "\n",
    "instrument = instruments[0]\n",
    "for data in instrument.data:\n",
    "    plt.plot(data, label=instrument.name, alpha=0.3)\n",
    "plt.legend()\n",
    "plt.show()"
   ]
  },
  {
   "cell_type": "code",
   "execution_count": 31,
   "metadata": {},
   "outputs": [
    {
     "ename": "IndexError",
     "evalue": "list index out of range",
     "output_type": "error",
     "traceback": [
      "\u001b[1;31m---------------------------------------------------------------------------\u001b[0m",
      "\u001b[1;31mIndexError\u001b[0m                                Traceback (most recent call last)",
      "\u001b[1;32m<ipython-input-31-d7e648a7bdad>\u001b[0m in \u001b[0;36m<module>\u001b[1;34m()\u001b[0m\n\u001b[0;32m      2\u001b[0m \u001b[1;33m\u001b[0m\u001b[0m\n\u001b[0;32m      3\u001b[0m \u001b[1;31m# For each codebook\u001b[0m\u001b[1;33m\u001b[0m\u001b[1;33m\u001b[0m\u001b[0m\n\u001b[1;32m----> 4\u001b[1;33m \u001b[0mX\u001b[0m \u001b[1;33m=\u001b[0m \u001b[0minstruments\u001b[0m\u001b[1;33m[\u001b[0m\u001b[1;36m0\u001b[0m\u001b[1;33m]\u001b[0m\u001b[1;33m.\u001b[0m\u001b[0msegments\u001b[0m\u001b[1;33m[\u001b[0m\u001b[1;36m0\u001b[0m\u001b[1;33m]\u001b[0m\u001b[1;33m\u001b[0m\u001b[0m\n\u001b[0m\u001b[0;32m      5\u001b[0m \u001b[0mkmeans\u001b[0m \u001b[1;33m=\u001b[0m \u001b[0mKMeans\u001b[0m\u001b[1;33m(\u001b[0m\u001b[0mn_clusters\u001b[0m \u001b[1;33m=\u001b[0m \u001b[1;36m512\u001b[0m\u001b[1;33m,\u001b[0m \u001b[0mrandom_state\u001b[0m \u001b[1;33m=\u001b[0m \u001b[1;36m1\u001b[0m\u001b[1;33m)\u001b[0m\u001b[1;33m.\u001b[0m\u001b[0mfit\u001b[0m\u001b[1;33m(\u001b[0m\u001b[0mX\u001b[0m\u001b[1;33m)\u001b[0m\u001b[1;33m\u001b[0m\u001b[0m\n\u001b[0;32m      6\u001b[0m \u001b[1;33m\u001b[0m\u001b[0m\n",
      "\u001b[1;31mIndexError\u001b[0m: list index out of range"
     ]
    }
   ],
   "source": [
    "from sklearn.cluster import KMeans\n",
    "\n",
    "# For each codebook\n",
    "X = instruments[0].segments[0]\n",
    "kmeans = KMeans(n_clusters = 512, random_state = 1).fit(X)\n",
    "\n",
    "# Store the resulting codebook: Return Centers\n",
    "kmeans.cluster_centers_"
   ]
  },
  {
   "cell_type": "code",
   "execution_count": null,
   "metadata": {},
   "outputs": [],
   "source": [
    "# Return Centers\n",
    "kmeans.cluster_centers_"
   ]
  }
 ],
 "metadata": {
  "kernelspec": {
   "display_name": "Python 3",
   "language": "python",
   "name": "python3"
  },
  "language_info": {
   "codemirror_mode": {
    "name": "ipython",
    "version": 3
   },
   "file_extension": ".py",
   "mimetype": "text/x-python",
   "name": "python",
   "nbconvert_exporter": "python",
   "pygments_lexer": "ipython3",
   "version": "3.6.4"
  }
 },
 "nbformat": 4,
 "nbformat_minor": 2
}

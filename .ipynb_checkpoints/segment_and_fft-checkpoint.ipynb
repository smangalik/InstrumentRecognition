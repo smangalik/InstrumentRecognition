{
 "cells": [
  {
   "cell_type": "code",
   "execution_count": 3,
   "metadata": {},
   "outputs": [
    {
     "name": "stdout",
     "output_type": "stream",
     "text": [
      "banjo_c4 added w/ 347 samples\n",
      "bassclarinet_c4 added w/ 110 samples\n",
      "bassdrum added w/ 135 samples\n",
      "cello_c4 added w/ 132 samples\n",
      "cowbell added w/ 147 samples\n",
      "crashcymbal added w/ 348 samples\n",
      "doublebass_c4 added w/ 103 samples\n",
      "flute_c4 added w/ 114 samples\n",
      "frenchhorn_c4 added w/ 147 samples\n",
      "guitar_C4 added w/ 392 samples\n",
      "oboe_c4 added w/ 100 samples\n",
      "sax_c4 added w/ 71 samples\n",
      "snaredrum added w/ 44 samples\n",
      "tomtom added w/ 27 samples\n",
      "triangle added w/ 440 samples\n",
      "trombone_c4 added w/ 80 samples\n",
      "trumpet_c4 added w/ 230 samples\n",
      "tuba_c4 added w/ 43 samples\n",
      "viola_c4 added w/ 199 samples\n",
      "violin_c4 added w/ 126 samples\n"
     ]
    }
   ],
   "source": [
    "import numpy as np\n",
    "import scipy.io.wavfile as sp\n",
    "import os\n",
    "\n",
    "#class that represents an instrument playing a specific note and its segments\n",
    "class Instrument:\n",
    "    def __init__(self, name, segments):\n",
    "        self.name = name\n",
    "        self.segments = segments\n",
    "\n",
    "#dictionary of the instruments\n",
    "instruments = []\n",
    "        \n",
    "#iterate through all files in directory to process data in .wav files\n",
    "directory = \"data/\"\n",
    "for file_path in os.listdir(directory):\n",
    "    if(file_path.endswith(\".wav\")): \n",
    "        #rate = frames per second, data = the frames\n",
    "        rate, data = sp.read(directory + file_path)\n",
    "\n",
    "        #duration = number of frames / franes per second\n",
    "        duration = data.size / rate\n",
    "\n",
    "        #overlap = frames per 4ms\n",
    "        overlap = rate/1000*4\n",
    "        overlap = int(overlap)\n",
    "\n",
    "        #window_size = frames per 10ms\n",
    "        window_size = rate/1000*10\n",
    "        window_size = int(window_size)\n",
    "\n",
    "        #extract frame segments with overlaps\n",
    "        all_windows = [data[i : i + window_size] for i in range(0, data.size, window_size - overlap)]\n",
    "\n",
    "        #perform fast fourier transform on segments\n",
    "        fft_all_windows = [np.fft.fft(w) for w in all_windows]\n",
    "\n",
    "        #create an instrument object with the appropriate name and segments\n",
    "        new_instrument = Instrument(file_path.split(\".\")[0], fft_all_windows)\n",
    "        \n",
    "        #add the instrument to the list\n",
    "        instruments.append(new_instrument)\n",
    "        print(new_instrument.name, 'added w/', len(all_windows),'samples')"
   ]
  },
  {
   "cell_type": "code",
   "execution_count": null,
   "metadata": {},
   "outputs": [],
   "source": [
    "#perform inverse fast fourier transform on the resulting segments of the fast fourier transform\n",
    "    #inverse_fft_all_windows = [np.fft.ifft(w) for w in fft_all_windows]\n",
    "\n",
    "#get back the original segments\n",
    "    #original_all_windows = [[int(round(x)) for x in segment] for segment in inverse_fft_all_windows]"
   ]
  },
  {
   "cell_type": "code",
   "execution_count": null,
   "metadata": {},
   "outputs": [],
   "source": [
    "# Consider normalizing sound amplitudes to control for volume\n",
    "# Look into an optional SVM classifier"
   ]
  },
  {
   "cell_type": "code",
   "execution_count": null,
   "metadata": {},
   "outputs": [],
   "source": [
    "from sklearn.cluster import KMeans\n",
    "\n",
    "# Data\n",
    "X = np.array([[1, 2], [1, 4], [1, 0],\n",
    "              [4, 2], [4, 4], [4, 0]])\n",
    "\n",
    "# Clustering\n",
    "kmeans = KMeans(n_clusters=2, random_state=0).fit(X)\n",
    "# kmeans.labels_ = [0, 0, 0, 1, 1, 1]\n",
    "\n",
    "# Predict labels\n",
    "kmeans.predict([[0, 0], [4, 4]]) # [0, 1]\n",
    "\n",
    "# Return Centers\n",
    "kmeans.cluster_centers_"
   ]
  },
  {
   "cell_type": "code",
   "execution_count": null,
   "metadata": {},
   "outputs": [],
   "source": []
  }
 ],
 "metadata": {
  "kernelspec": {
   "display_name": "Python 3",
   "language": "python",
   "name": "python3"
  },
  "language_info": {
   "codemirror_mode": {
    "name": "ipython",
    "version": 3
   },
   "file_extension": ".py",
   "mimetype": "text/x-python",
   "name": "python",
   "nbconvert_exporter": "python",
   "pygments_lexer": "ipython3",
   "version": "3.6.4"
  }
 },
 "nbformat": 4,
 "nbformat_minor": 2
}

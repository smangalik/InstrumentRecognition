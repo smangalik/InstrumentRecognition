{
 "cells": [
  {
   "cell_type": "markdown",
   "metadata": {},
   "source": [
    "# Musical Instrument Recognition with Spectral Vectors and K-Means\n",
    "\n",
    "Source: http://www.philharmonia.co.uk/explore/sound_samples/"
   ]
  },
  {
   "cell_type": "code",
   "execution_count": 1,
   "metadata": {
    "scrolled": false
   },
   "outputs": [
    {
     "name": "stdout",
     "output_type": "stream",
     "text": [
      "snare_drum added\n",
      "cello added\n",
      "banjo added\n",
      "violin added\n",
      "french_horn added\n",
      "trombone added\n",
      "oboe added\n",
      "bass_clarinet added\n",
      "trumpet added\n",
      "guitar added\n",
      "triangle added\n",
      "bass_drum added\n",
      "saxophone added\n",
      "tambourine added\n",
      "tuba added\n",
      "cowbell added\n",
      "viola added\n",
      "flute added\n",
      "clash_cymbals added\n",
      "double_bass added\n"
     ]
    }
   ],
   "source": [
    "# Capture Sound Samples\n",
    "\n",
    "import numpy as np\n",
    "from scipy import signal\n",
    "import scipy.io.wavfile as sp\n",
    "import os\n",
    "\n",
    "#class that represents an instrument playing a specific note and its segments\n",
    "class Instrument:\n",
    "    def __init__(self, name, data, rate, segments):\n",
    "        self.name = name             # instrument name\n",
    "        self.data = data             # raw waves for the audio\n",
    "        self.rate = rate             # sampling rate for the audio\n",
    "        self.segments = segments     # segmented waves after fourier transform\n",
    "        \n",
    "#list of the instruments\n",
    "instruments = []\n",
    "        \n",
    "#iterate through all instrument folders in wav_data\n",
    "directory = \"data/wav_data/\"\n",
    "for folder in os.listdir(directory):\n",
    "    if \".\" not in folder:\n",
    "        #create an instrument object with the appropriate name per folder\n",
    "        new_instrument = Instrument(folder, [], [], [])\n",
    "        #iterate through all .wav files in folders\n",
    "        for file_path in os.listdir(directory + folder):\n",
    "            if file_path.endswith(\".wav\"):\n",
    "                #rate = frames per second, data = the frames\n",
    "                rate, data = sp.read(directory + folder + \"/\" + file_path)\n",
    "                #append the data and rate for the sample\n",
    "                new_instrument.data.append(data)\n",
    "                new_instrument.rate.append(rate)\n",
    "        #add instrument to instruments list\n",
    "        instruments.append(new_instrument)   \n",
    "        #print that new instrument was added\n",
    "        print(new_instrument.name, 'added')"
   ]
  },
  {
   "cell_type": "markdown",
   "metadata": {},
   "source": [
    "## Feature Extraction\n",
    "- Regularize to mean volume\n",
    "- Get short time fourier transform\n",
    "- Convert Segments into Spectral Vectors"
   ]
  },
  {
   "cell_type": "code",
   "execution_count": 8,
   "metadata": {},
   "outputs": [
    {
     "name": "stdout",
     "output_type": "stream",
     "text": [
      "FINISHED snare_drum\n",
      "FINISHED cello\n",
      "FINISHED banjo\n",
      "FINISHED violin\n",
      "FINISHED french_horn\n",
      "FINISHED trombone\n",
      "FINISHED oboe\n",
      "FINISHED bass_clarinet\n",
      "FINISHED trumpet\n",
      "FINISHED guitar\n",
      "FINISHED triangle\n",
      "FINISHED bass_drum\n",
      "FINISHED saxophone\n",
      "FINISHED tambourine\n",
      "FINISHED tuba\n",
      "FINISHED cowbell\n",
      "FINISHED viola\n",
      "FINISHED flute\n",
      "FINISHED clash_cymbals\n",
      "FINISHED double_bass\n"
     ]
    }
   ],
   "source": [
    "# Rescaling and Spectral Vectors\n",
    "\n",
    "#find mean volume of sound samples \n",
    "lists_of_tops = [[np.max(sample) for sample in instrument.data] for instrument in instruments]\n",
    "list_of_tops = [top for list_of_tops in lists_of_tops for top in list_of_tops]\n",
    "mean_volume = np.mean(list_of_tops)  \n",
    "\n",
    "#scale the volume for all the audio samples\n",
    "def scale_volume(data, avg_volume = mean_volume):\n",
    "    final_scale = avg_volume / (max(-1 * min(data), max(data)))\n",
    "    return data * final_scale\n",
    "\n",
    "#scale the data and perform stft\n",
    "for instrument in instruments:\n",
    "    for i in range(0, len(instrument.data)):\n",
    "        \n",
    "        #rescale data\n",
    "        instrument.data[i] = scale_volume(instrument.data[i])\n",
    "\n",
    "        #get the data and rate\n",
    "        data = instrument.data[i]\n",
    "        rate = instrument.rate[i]\n",
    "\n",
    "        #duration = number of frames / frames per second\n",
    "        duration = len(data) / rate\n",
    "\n",
    "        #overlap = frames per 10ms\n",
    "        overlap = rate/1000*10\n",
    "        overlap = int(overlap)\n",
    "\n",
    "        #window_size = frames per 25ms\n",
    "        window_size = rate/1000*25\n",
    "        window_size = int(window_size)\n",
    "\n",
    "        #extract frame segments with overlaps\n",
    "        f, t, Zxx = signal.stft(data, window = 'hann', nperseg = window_size, noverlap = overlap)\n",
    "\n",
    "        #log of the absolute values of each segment\n",
    "        Zxx = abs(Zxx)\n",
    "        Zxx = [[np.log10(d) if d != 0 else 0 for d in segment] for segment in Zxx]\n",
    "        #print(\"Sample Number: \" + str(i) + \", for instrument: \" + folder)\n",
    "        #add the stft result to the instrument\n",
    "        instrument.segments.append(Zxx)\n",
    "        \n",
    "    print(\"FINISHED \" + instrument.name)"
   ]
  },
  {
   "cell_type": "markdown",
   "metadata": {},
   "source": [
    "## Plotting out sound samples "
   ]
  },
  {
   "cell_type": "code",
   "execution_count": 9,
   "metadata": {},
   "outputs": [
    {
     "data": {
      "image/png": "[encoded data removed]",
      "text/plain": [
       "<matplotlib.figure.Figure at 0x11652b588>"
      ]
     },
     "metadata": {},
     "output_type": "display_data"
    }
   ],
   "source": [
    "# Plot out an audio sample\n",
    "\n",
    "import matplotlib.pyplot as plt\n",
    "\n",
    "instrument = instruments[0]\n",
    "for data in instrument.data:\n",
    "    plt.plot(data, label=instrument.name, alpha=0.3)\n",
    "plt.legend()\n",
    "plt.show()"
   ]
  },
  {
   "cell_type": "markdown",
   "metadata": {},
   "source": [
    "## Multilayer Perceptron"
   ]
  },
  {
   "cell_type": "code",
   "execution_count": 30,
   "metadata": {},
   "outputs": [
    {
     "ename": "ValueError",
     "evalue": "setting an array element with a sequence.",
     "output_type": "error",
     "traceback": [
      "\u001b[0;31m---------------------------------------------------------------------------\u001b[0m",
      "\u001b[0;31mValueError\u001b[0m                                Traceback (most recent call last)",
      "\u001b[0;32m<ipython-input-30-f1ca21e46f59>\u001b[0m in \u001b[0;36m<module>\u001b[0;34m()\u001b[0m\n\u001b[1;32m     18\u001b[0m                     hidden_layer_sizes=(5, 2), random_state=1)\n\u001b[1;32m     19\u001b[0m \u001b[0;34m\u001b[0m\u001b[0m\n\u001b[0;32m---> 20\u001b[0;31m \u001b[0mnet\u001b[0m\u001b[0;34m.\u001b[0m\u001b[0mfit\u001b[0m\u001b[0;34m(\u001b[0m\u001b[0mX\u001b[0m\u001b[0;34m,\u001b[0m\u001b[0my\u001b[0m\u001b[0;34m)\u001b[0m\u001b[0;34m\u001b[0m\u001b[0m\n\u001b[0m\u001b[1;32m     21\u001b[0m \u001b[0mpredictions\u001b[0m \u001b[0;34m=\u001b[0m \u001b[0mnet\u001b[0m\u001b[0;34m.\u001b[0m\u001b[0mpredict\u001b[0m\u001b[0;34m(\u001b[0m\u001b[0;34m[\u001b[0m\u001b[0;34m[\u001b[0m\u001b[0;36m1.\u001b[0m\u001b[0;34m,\u001b[0m \u001b[0;36m2.\u001b[0m\u001b[0;34m]\u001b[0m\u001b[0;34m]\u001b[0m\u001b[0;34m)\u001b[0m\u001b[0;34m\u001b[0m\u001b[0m\n\u001b[1;32m     22\u001b[0m \u001b[0mpredictions\u001b[0m\u001b[0;34m\u001b[0m\u001b[0m\n",
      "\u001b[0;32m~/anaconda3/lib/python3.6/site-packages/sklearn/neural_network/multilayer_perceptron.py\u001b[0m in \u001b[0;36mfit\u001b[0;34m(self, X, y)\u001b[0m\n\u001b[1;32m    971\u001b[0m         \"\"\"\n\u001b[1;32m    972\u001b[0m         return self._fit(X, y, incremental=(self.warm_start and\n\u001b[0;32m--> 973\u001b[0;31m                                             hasattr(self, \"classes_\")))\n\u001b[0m\u001b[1;32m    974\u001b[0m \u001b[0;34m\u001b[0m\u001b[0m\n\u001b[1;32m    975\u001b[0m     \u001b[0;34m@\u001b[0m\u001b[0mproperty\u001b[0m\u001b[0;34m\u001b[0m\u001b[0m\n",
      "\u001b[0;32m~/anaconda3/lib/python3.6/site-packages/sklearn/neural_network/multilayer_perceptron.py\u001b[0m in \u001b[0;36m_fit\u001b[0;34m(self, X, y, incremental)\u001b[0m\n\u001b[1;32m    329\u001b[0m                              hidden_layer_sizes)\n\u001b[1;32m    330\u001b[0m \u001b[0;34m\u001b[0m\u001b[0m\n\u001b[0;32m--> 331\u001b[0;31m         \u001b[0mX\u001b[0m\u001b[0;34m,\u001b[0m \u001b[0my\u001b[0m \u001b[0;34m=\u001b[0m \u001b[0mself\u001b[0m\u001b[0;34m.\u001b[0m\u001b[0m_validate_input\u001b[0m\u001b[0;34m(\u001b[0m\u001b[0mX\u001b[0m\u001b[0;34m,\u001b[0m \u001b[0my\u001b[0m\u001b[0;34m,\u001b[0m \u001b[0mincremental\u001b[0m\u001b[0;34m)\u001b[0m\u001b[0;34m\u001b[0m\u001b[0m\n\u001b[0m\u001b[1;32m    332\u001b[0m         \u001b[0mn_samples\u001b[0m\u001b[0;34m,\u001b[0m \u001b[0mn_features\u001b[0m \u001b[0;34m=\u001b[0m \u001b[0mX\u001b[0m\u001b[0;34m.\u001b[0m\u001b[0mshape\u001b[0m\u001b[0;34m\u001b[0m\u001b[0m\n\u001b[1;32m    333\u001b[0m \u001b[0;34m\u001b[0m\u001b[0m\n",
      "\u001b[0;32m~/anaconda3/lib/python3.6/site-packages/sklearn/neural_network/multilayer_perceptron.py\u001b[0m in \u001b[0;36m_validate_input\u001b[0;34m(self, X, y, incremental)\u001b[0m\n\u001b[1;32m    908\u001b[0m     \u001b[0;32mdef\u001b[0m \u001b[0m_validate_input\u001b[0m\u001b[0;34m(\u001b[0m\u001b[0mself\u001b[0m\u001b[0;34m,\u001b[0m \u001b[0mX\u001b[0m\u001b[0;34m,\u001b[0m \u001b[0my\u001b[0m\u001b[0;34m,\u001b[0m \u001b[0mincremental\u001b[0m\u001b[0;34m)\u001b[0m\u001b[0;34m:\u001b[0m\u001b[0;34m\u001b[0m\u001b[0m\n\u001b[1;32m    909\u001b[0m         X, y = check_X_y(X, y, accept_sparse=['csr', 'csc', 'coo'],\n\u001b[0;32m--> 910\u001b[0;31m                          multi_output=True)\n\u001b[0m\u001b[1;32m    911\u001b[0m         \u001b[0;32mif\u001b[0m \u001b[0my\u001b[0m\u001b[0;34m.\u001b[0m\u001b[0mndim\u001b[0m \u001b[0;34m==\u001b[0m \u001b[0;36m2\u001b[0m \u001b[0;32mand\u001b[0m \u001b[0my\u001b[0m\u001b[0;34m.\u001b[0m\u001b[0mshape\u001b[0m\u001b[0;34m[\u001b[0m\u001b[0;36m1\u001b[0m\u001b[0;34m]\u001b[0m \u001b[0;34m==\u001b[0m \u001b[0;36m1\u001b[0m\u001b[0;34m:\u001b[0m\u001b[0;34m\u001b[0m\u001b[0m\n\u001b[1;32m    912\u001b[0m             \u001b[0my\u001b[0m \u001b[0;34m=\u001b[0m \u001b[0mcolumn_or_1d\u001b[0m\u001b[0;34m(\u001b[0m\u001b[0my\u001b[0m\u001b[0;34m,\u001b[0m \u001b[0mwarn\u001b[0m\u001b[0;34m=\u001b[0m\u001b[0;32mTrue\u001b[0m\u001b[0;34m)\u001b[0m\u001b[0;34m\u001b[0m\u001b[0m\n",
      "\u001b[0;32m~/anaconda3/lib/python3.6/site-packages/sklearn/utils/validation.py\u001b[0m in \u001b[0;36mcheck_X_y\u001b[0;34m(X, y, accept_sparse, dtype, order, copy, force_all_finite, ensure_2d, allow_nd, multi_output, ensure_min_samples, ensure_min_features, y_numeric, warn_on_dtype, estimator)\u001b[0m\n\u001b[1;32m    571\u001b[0m     X = check_array(X, accept_sparse, dtype, order, copy, force_all_finite,\n\u001b[1;32m    572\u001b[0m                     \u001b[0mensure_2d\u001b[0m\u001b[0;34m,\u001b[0m \u001b[0mallow_nd\u001b[0m\u001b[0;34m,\u001b[0m \u001b[0mensure_min_samples\u001b[0m\u001b[0;34m,\u001b[0m\u001b[0;34m\u001b[0m\u001b[0m\n\u001b[0;32m--> 573\u001b[0;31m                     ensure_min_features, warn_on_dtype, estimator)\n\u001b[0m\u001b[1;32m    574\u001b[0m     \u001b[0;32mif\u001b[0m \u001b[0mmulti_output\u001b[0m\u001b[0;34m:\u001b[0m\u001b[0;34m\u001b[0m\u001b[0m\n\u001b[1;32m    575\u001b[0m         y = check_array(y, 'csr', force_all_finite=True, ensure_2d=False,\n",
      "\u001b[0;32m~/anaconda3/lib/python3.6/site-packages/sklearn/utils/validation.py\u001b[0m in \u001b[0;36mcheck_array\u001b[0;34m(array, accept_sparse, dtype, order, copy, force_all_finite, ensure_2d, allow_nd, ensure_min_samples, ensure_min_features, warn_on_dtype, estimator)\u001b[0m\n\u001b[1;32m    446\u001b[0m         \u001b[0;31m# make sure we actually converted to numeric:\u001b[0m\u001b[0;34m\u001b[0m\u001b[0;34m\u001b[0m\u001b[0m\n\u001b[1;32m    447\u001b[0m         \u001b[0;32mif\u001b[0m \u001b[0mdtype_numeric\u001b[0m \u001b[0;32mand\u001b[0m \u001b[0marray\u001b[0m\u001b[0;34m.\u001b[0m\u001b[0mdtype\u001b[0m\u001b[0;34m.\u001b[0m\u001b[0mkind\u001b[0m \u001b[0;34m==\u001b[0m \u001b[0;34m\"O\"\u001b[0m\u001b[0;34m:\u001b[0m\u001b[0;34m\u001b[0m\u001b[0m\n\u001b[0;32m--> 448\u001b[0;31m             \u001b[0marray\u001b[0m \u001b[0;34m=\u001b[0m \u001b[0marray\u001b[0m\u001b[0;34m.\u001b[0m\u001b[0mastype\u001b[0m\u001b[0;34m(\u001b[0m\u001b[0mnp\u001b[0m\u001b[0;34m.\u001b[0m\u001b[0mfloat64\u001b[0m\u001b[0;34m)\u001b[0m\u001b[0;34m\u001b[0m\u001b[0m\n\u001b[0m\u001b[1;32m    449\u001b[0m         \u001b[0;32mif\u001b[0m \u001b[0;32mnot\u001b[0m \u001b[0mallow_nd\u001b[0m \u001b[0;32mand\u001b[0m \u001b[0marray\u001b[0m\u001b[0;34m.\u001b[0m\u001b[0mndim\u001b[0m \u001b[0;34m>=\u001b[0m \u001b[0;36m3\u001b[0m\u001b[0;34m:\u001b[0m\u001b[0;34m\u001b[0m\u001b[0m\n\u001b[1;32m    450\u001b[0m             raise ValueError(\"Found array with dim %d. %s expected <= 2.\"\n",
      "\u001b[0;31mValueError\u001b[0m: setting an array element with a sequence."
     ]
    }
   ],
   "source": [
    "from sklearn.neural_network import MLPClassifier\n",
    "import itertools\n",
    "\n",
    "X = []\n",
    "y = []\n",
    "\n",
    "for instrument in instruments:\n",
    "    for segment in instrument.segments[:-1]:\n",
    "        X.append(segment)\n",
    "        y.append(instrument.name)\n",
    "    #X.extend(instrument.segments)\n",
    "    #name_list = list(itertools.repeat(instrument.name, len(instrument.segments)))\n",
    "    #y.extend(name_list)\n",
    "    #X = np.array(X, dtype = float)\n",
    "    #y = np.array(y, dtype = str)\n",
    "    break\n",
    "net = MLPClassifier(solver='lbfgs', alpha=1e-5,\n",
    "                    hidden_layer_sizes=(5, 2), random_state=1)\n",
    "\n",
    "net.fit(X,y)\n",
    "predictions = net.predict([[1., 2.]])\n",
    "predictions"
   ]
  },
  {
   "cell_type": "markdown",
   "metadata": {},
   "source": [
    "## Create Codebooks/Clusters for each instrument\n",
    "- Clusters are generated with K-Means"
   ]
  },
  {
   "cell_type": "code",
   "execution_count": null,
   "metadata": {},
   "outputs": [],
   "source": [
    "from sklearn.cluster import KMeans\n",
    "\n",
    "# For each codebook\n",
    "X = [[0., 0.], [1., 1.]]\n",
    "kmeans = KMeans(n_clusters = 2, random_state = 1).fit(X)\n",
    "\n",
    "# Store the resulting codebook: Return Centers\n",
    "kmeans.cluster_centers_"
   ]
  },
  {
   "cell_type": "markdown",
   "metadata": {},
   "source": [
    "## Evaluating Final Classifier\n",
    "- Segment new signal and score on all instruments"
   ]
  },
  {
   "cell_type": "code",
   "execution_count": null,
   "metadata": {
    "collapsed": true
   },
   "outputs": [],
   "source": [
    "# Optionally Use a Classifier like a neural network or a random forest s"
   ]
  },
  {
   "cell_type": "code",
   "execution_count": null,
   "metadata": {
    "collapsed": true
   },
   "outputs": [],
   "source": [
    "# Return Centers\n",
    "kmeans.cluster_centers_"
   ]
  }
 ],
 "metadata": {
  "kernelspec": {
   "display_name": "Python 3",
   "language": "python",
   "name": "python3"
  },
  "language_info": {
   "codemirror_mode": {
    "name": "ipython",
    "version": 3
   },
   "file_extension": ".py",
   "mimetype": "text/x-python",
   "name": "python",
   "nbconvert_exporter": "python",
   "pygments_lexer": "ipython3",
   "version": "3.6.3"
  }
 },
 "nbformat": 4,
 "nbformat_minor": 2
}

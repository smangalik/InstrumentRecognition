{
 "cells": [
  {
   "cell_type": "code",
   "execution_count": null,
   "metadata": {
    "scrolled": false
   },
   "outputs": [
    {
     "name": "stdout",
     "output_type": "stream",
     "text": [
      "snare_drum added\n",
      "cello added\n",
      "banjo added\n",
      "violin added\n",
      "french_horn added\n",
      "trombone added\n",
      "oboe added\n",
      "bass_clarinet added\n",
      "trumpet added\n",
      "guitar added\n",
      "triangle added\n",
      "bass_drum added\n",
      "saxophone added\n",
      "tambourine added\n",
      "tuba added\n",
      "cowbell added\n",
      "viola added\n",
      "flute added\n",
      "clash_cymbals added\n",
      "double_bass added\n",
      "FINISHED snare_drum\n",
      "FINISHED cello\n",
      "FINISHED banjo\n",
      "FINISHED violin\n",
      "FINISHED french_horn\n"
     ]
    }
   ],
   "source": [
    "#Sound Samples\n",
    "#http://www.philharmonia.co.uk/explore/sound_samples/bass_clarinet?p=2\n",
    "\n",
    "import numpy as np\n",
    "from scipy import signal\n",
    "import scipy.io.wavfile as sp\n",
    "import os\n",
    "\n",
    "#class that represents an instrument playing a specific note and its segments\n",
    "class Instrument:\n",
    "    def __init__(self, name, data, rate, segments):\n",
    "        self.name = name             # instrument name\n",
    "        self.data = data             # raw waves for the audio\n",
    "        self.rate = rate             # sampling rate for the audio\n",
    "        self.segments = segments     # segmented waves after fourier transform\n",
    "        \n",
    "#dictionary of the instruments\n",
    "instruments = []\n",
    "        \n",
    "#iterate through all instrument folders in wav_data\n",
    "directory = \"data/wav_data/\"\n",
    "for folder in os.listdir(directory):\n",
    "    if \".\" not in folder:\n",
    "        #create an instrument object with the appropriate name per folder\n",
    "        new_instrument = Instrument(folder, [], [], [])\n",
    "        #iterate through all .wav files in folders\n",
    "        for file_path in os.listdir(directory + folder):\n",
    "            if file_path.endswith(\".wav\"):\n",
    "                #rate = frames per second, data = the frames\n",
    "                rate, data = sp.read(directory + folder + \"/\" + file_path)\n",
    "                #append the data and rate for the sample\n",
    "                new_instrument.data.append(data)\n",
    "                new_instrument.rate.append(rate)\n",
    "        #add instrument to instruments list\n",
    "        instruments.append(new_instrument)   \n",
    "        #print that new instrument was added\n",
    "        print(new_instrument.name, 'added')\n",
    "\n",
    "#find mean volume of sound samples \n",
    "lists_of_tops = [[np.max(sample) for sample in instrument.data] for instrument in instruments]\n",
    "list_of_tops = [top for list_of_tops in lists_of_tops for top in list_of_tops]\n",
    "mean_volume = np.mean(list_of_tops)  \n",
    "\n",
    "#scale the volume for all the audio samples\n",
    "def scale_volume(data, avg_volume = mean_volume):\n",
    "#     result = []\n",
    "#     for d in data:\n",
    "#         scale = max(-1 * min(data), max(data))\n",
    "#         d = d * avg_volume/scale\n",
    "#         result.append(d)\n",
    "#     return result\n",
    "    final_scale = avg_volume / (max(-1 * min(data), max(data)))\n",
    "    return data * final_scale\n",
    "\n",
    "#scale the data and perform stft\n",
    "for instrument in instruments:\n",
    "    #rescale data\n",
    "    for i in range(0, len(instrument.data)):\n",
    "        instrument.data[i] = scale_volume(instrument.data[i])\n",
    "\n",
    "        #get the data and rate\n",
    "        data = instrument.data[i]\n",
    "        rate = instrument.rate[i]\n",
    "\n",
    "        #duration = number of frames / frames per second\n",
    "        duration = len(data) / rate\n",
    "\n",
    "        #overlap = frames per 10ms\n",
    "        overlap = rate/1000*10\n",
    "        overlap = int(overlap)\n",
    "\n",
    "        #window_size = frames per 25ms\n",
    "        window_size = rate/1000*25\n",
    "        window_size = int(window_size)\n",
    "        '''\n",
    "        #extract frame segments with overlaps\n",
    "        f, t, Zxx = signal.stft(data, window = 'hann', nperseg = window_size, noverlap = overlap)\n",
    "\n",
    "        #log of the absolute values of each segment\n",
    "        Zxx = abs(Zxx)\n",
    "        Zxx = [[np.log10(d) if d != 0 else 0 for d in segment] for segment in Zxx]\n",
    "        \n",
    "        #add the stft result to the instrument\n",
    "        instrument.segments.append(Zxx)\n",
    "        '''\n",
    "    print(\"FINISHED \" + instrument.name)"
   ]
  },
  {
   "cell_type": "code",
   "execution_count": 17,
   "metadata": {},
   "outputs": [
    {
     "data": {
      "image/png": "[encoded data removed]",
      "text/plain": [
       "<matplotlib.figure.Figure at 0x1c8712cb70>"
      ]
     },
     "metadata": {},
     "output_type": "display_data"
    }
   ],
   "source": [
    "import matplotlib.pyplot as plt\n",
    "\n",
    "instrument = instruments[0]\n",
    "for data in instrument.data:\n",
    "    plt.plot(data, label=instrument.name, alpha=0.3)\n",
    "plt.legend()\n",
    "plt.show()"
   ]
  },
  {
   "cell_type": "code",
   "execution_count": null,
   "metadata": {
    "collapsed": true
   },
   "outputs": [],
   "source": [
    "# when seeing new test data, we sample it at the same rate and then average its scores on all k-means regressions\n",
    "\n",
    "# https://docs.scipy.org/doc/scipy/reference/generated/scipy.signal.stft.html\n",
    "    \n",
    "# https://kevinsprojects.wordpress.com/2014/12/13/short-time-fourier-transform-using-python-and-numpy/"
   ]
  },
  {
   "cell_type": "code",
   "execution_count": null,
   "metadata": {
    "collapsed": true
   },
   "outputs": [],
   "source": [
    "from sklearn.cluster import KMeans\n",
    "\n",
    "# Data\n",
    "X = np.array([[1, 2], [1, 4], [1, 0],\n",
    "              [4, 2], [4, 4], [4, 0]])\n",
    "\n",
    "# Clustering\n",
    "kmeans = KMeans(n_clusters=2, random_state=0).fit(X)\n",
    "# kmeans.labels_ = [0, 0, 0, 1, 1, 1]\n",
    "\n",
    "# Predict labels\n",
    "kmeans.predict([[0, 0], [4, 4]]) # [0, 1]\n",
    "\n",
    "# Return Centers\n",
    "kmeans.cluster_centers_"
   ]
  },
  {
   "cell_type": "code",
   "execution_count": 81,
   "metadata": {
    "collapsed": true
   },
   "outputs": [],
   "source": [
    "from sklearn.cluster import KMeans\n",
    "\n",
    "kmeans = KMeans(n_clusters = 221, random_state = 0).fit(instruments[0].segments)"
   ]
  }
 ],
 "metadata": {
  "kernelspec": {
   "display_name": "Python 3",
   "language": "python",
   "name": "python3"
  },
  "language_info": {
   "codemirror_mode": {
    "name": "ipython",
    "version": 3
   },
   "file_extension": ".py",
   "mimetype": "text/x-python",
   "name": "python",
   "nbconvert_exporter": "python",
   "pygments_lexer": "ipython3",
   "version": "3.6.3"
  }
 },
 "nbformat": 4,
 "nbformat_minor": 2
}
